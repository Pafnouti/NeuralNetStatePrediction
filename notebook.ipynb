{
 "cells": [
  {
   "cell_type": "markdown",
   "metadata": {},
   "source": [
    "# LSTM for model estimation"
   ]
  },
  {
   "cell_type": "markdown",
   "metadata": {},
   "source": [
    "## Imports"
   ]
  },
  {
   "cell_type": "code",
   "execution_count": 1,
   "metadata": {},
   "outputs": [
    {
     "name": "stdout",
     "output_type": "stream",
     "text": [
      "[PhysicalDevice(name='/physical_device:GPU:0', device_type='GPU')]\n"
     ]
    }
   ],
   "source": [
    "import tensorflow as tf\n",
    "import pandas as pd\n",
    "import numpy as np\n",
    "import matplotlib.pyplot as plt\n",
    "import os\n",
    "import datetime\n",
    "\n",
    "from numpy import concatenate\n",
    "from sklearn.preprocessing import MinMaxScaler\n",
    "from math import sqrt\n",
    "from sklearn.metrics import mean_squared_error\n",
    "import seaborn as sb\n",
    "\n",
    "physical_devices = tf.config.list_physical_devices('GPU')\n",
    "tf.config.experimental.set_memory_growth(physical_devices[0], enable=True)\n",
    "print(physical_devices)"
   ]
  },
  {
   "cell_type": "markdown",
   "metadata": {},
   "source": [
    "## Data\n",
    "Source for dataset files :\n",
    "https://intofpv.com/t-hi-need-some-tips-on-my-10-setup?pid=89730#pid89730"
   ]
  },
  {
   "cell_type": "code",
   "execution_count": 2,
   "metadata": {},
   "outputs": [],
   "source": [
    "#data = pd.read_csv(\"A4E.csv\")\n",
    "data = pd.read_csv(\"./data/FAST FLYING APRIL 17.01.csv\")\n",
    "#print(data.columns)"
   ]
  },
  {
   "cell_type": "code",
   "execution_count": 3,
   "metadata": {},
   "outputs": [
    {
     "data": {
      "application/vnd.jupyter.widget-view+json": {
       "model_id": "5c32e13c362e4b17b726b7d3aae06e9d",
       "version_major": 2,
       "version_minor": 0
      },
      "text/plain": [
       "Canvas(toolbar=Toolbar(toolitems=[('Home', 'Reset original view', 'home', 'home'), ('Back', 'Back to previous …"
      ]
     },
     "metadata": {},
     "output_type": "display_data"
    },
    {
     "data": {
      "application/vnd.jupyter.widget-view+json": {
       "model_id": "d1ad2b57e96c486e9f1f988cf297b6d2",
       "version_major": 2,
       "version_minor": 0
      },
      "text/plain": [
       "Canvas(toolbar=Toolbar(toolitems=[('Home', 'Reset original view', 'home', 'home'), ('Back', 'Back to previous …"
      ]
     },
     "metadata": {},
     "output_type": "display_data"
    },
    {
     "name": "stdout",
     "output_type": "stream",
     "text": [
      "fe :  1997.9499367601159\n"
     ]
    }
   ],
   "source": [
    "# Check our data quickly\n",
    "%matplotlib ipympl\n",
    "time = (data[' time (us)'] - 22006993)/1e6 #this is in sync with betaflight's blackbox explorer\n",
    "plt.plot(time,data[' gyroADC[0]'])\n",
    "plt.title('Gyro x axis measurement')\n",
    "plt.ylabel('deg/s')\n",
    "plt.show()\n",
    "\n",
    "plt.figure()\n",
    "plt.plot(time,data[' motor[0]'])\n",
    "plt.title('Motor 0 command')\n",
    "plt.show()\n",
    "\n",
    "print(\"fe : \", len(data[' motor[0]'])/np.max(time))\n"
   ]
  },
  {
   "cell_type": "markdown",
   "metadata": {},
   "source": [
    "Here the sampling frequency is quite high at 2 kHz. We will downsample to be able to load data representative of the system in the RAM (ie if we take 20 samples per prediction at 2 kHz, the window time span will be very short in regards with the system's dynamics.\n",
    "\n",
    "\n",
    "Our goal is to model the system with its input and its output.\n",
    "Here our input to the model is the previous states of the system, and previous+current 4 motor commands. Motor commands here seems to be between 207 and 2047, so we will need to scale them.\n",
    "The state of the system here will be the output of the gyro.\n"
   ]
  },
  {
   "cell_type": "code",
   "execution_count": 10,
   "metadata": {
    "scrolled": true
   },
   "outputs": [
    {
     "name": "stdout",
     "output_type": "stream",
     "text": [
      "Status [100%]\r"
     ]
    }
   ],
   "source": [
    "X = np.empty((data_length - WINDOW_LENGTH-1, WINDOW_LENGTH, nb_features))\n",
    "Y = data_output[WINDOW_LENGTH + 1:] #this is equivalent to shifting every element so that Y[t] contains gyro values of t+1; the first value will not be used\n",
    "\n",
    "#pre-computing\n",
    "delayed = []\n",
    "for k in range(WINDOW_LENGTH):\n",
    "    delay = k+1\n",
    "    delayed.append(np.roll(data_input, delay, axis=0))\n",
    "\n",
    "for k in range(data_length - WINDOW_LENGTH-1):\n",
    "    print('Status [%d%%]\\r'%(1+100*k/(data_length - WINDOW_LENGTH-1)), end=\"\")\n",
    "    for i in range(WINDOW_LENGTH):\n",
    "        X[k, i] = delayed[WINDOW_LENGTH-i-1][k+WINDOW_LENGTH]"
   ]
  },
  {
   "cell_type": "code",
   "execution_count": 11,
   "metadata": {},
   "outputs": [
    {
     "name": "stdout",
     "output_type": "stream",
     "text": [
      "(25628, 200, 7) (25628, 3)\n"
     ]
    }
   ],
   "source": [
    "print(X.shape, Y.shape)"
   ]
  },
  {
   "cell_type": "code",
   "execution_count": 12,
   "metadata": {},
   "outputs": [],
   "source": [
    "def scale(X, meanX, stdX):\n",
    "    return (X - meanX) / stdX\n",
    "\n",
    "def inverse_scale(X, meanX, stdX):\n",
    "    return X * stdX + meanX"
   ]
  },
  {
   "cell_type": "code",
   "execution_count": 13,
   "metadata": {},
   "outputs": [
    {
     "name": "stdout",
     "output_type": "stream",
     "text": [
      "Train samples : 15453\n",
      "Test samples : 2563\n",
      "Validation samples : 7612\n",
      "[-14.40394616  -8.12071442  14.92381285 697.80150294 606.0505905\n",
      " 719.35758526 631.98102699] [-14.21510386  -8.12845402  14.966479  ]\n"
     ]
    }
   ],
   "source": [
    "from sklearn.model_selection import train_test_split\n",
    "\n",
    "#this sklearn function shuffles the data\n",
    "x, X_test, y, y_test = train_test_split(X, Y, test_size=0.1, random_state=0)\n",
    "X_train, X_validate, y_train, y_validate = train_test_split(x, y, test_size=0.33, random_state=0)\n",
    "print(\"Train samples :\", len(X_train))\n",
    "print(\"Test samples :\", len(X_test))\n",
    "print(\"Validation samples :\", len(X_validate))\n",
    "\n",
    "train_size = len(X_train)\n",
    "\n",
    "input_mean, input_std = X_train.reshape((-1, 7)).mean(axis=0), X_train.reshape((-1, 7)).std(axis=0),\n",
    "output_mean, output_std = y_train.mean(axis=0), y_train.std(axis=0)\n",
    "print(input_mean, output_mean)\n",
    "validation_dataset = tf.data.Dataset.from_tensor_slices((scale(X_validate, input_mean, input_std), scale(y_validate, output_mean, output_std)))\n",
    "train_dataset = tf.data.Dataset.from_tensor_slices((scale(X_train, input_mean, input_std), scale(y_train, output_mean, output_std)))\n",
    "test_dataset = tf.data.Dataset.from_tensor_slices((scale(X_test, input_mean, input_std), scale(y_test, output_mean, output_std)))"
   ]
  },
  {
   "cell_type": "code",
   "execution_count": 33,
   "metadata": {},
   "outputs": [],
   "source": [
    "#del X\n",
    "#del Y"
   ]
  },
  {
   "cell_type": "code",
   "execution_count": 154,
   "metadata": {},
   "outputs": [
    {
     "name": "stdout",
     "output_type": "stream",
     "text": [
      "Model: \"sequential_13\"\n",
      "_________________________________________________________________\n",
      "Layer (type)                 Output Shape              Param #   \n",
      "=================================================================\n",
      "lstm_7 (LSTM)                (None, 200, 200)          166400    \n",
      "_________________________________________________________________\n",
      "dropout_7 (Dropout)          (None, 200, 200)          0         \n",
      "_________________________________________________________________\n",
      "lstm_8 (LSTM)                (None, 8)                 6688      \n",
      "_________________________________________________________________\n",
      "dropout_8 (Dropout)          (None, 8)                 0         \n",
      "_________________________________________________________________\n",
      "dense_23 (Dense)             (None, 3)                 27        \n",
      "=================================================================\n",
      "Total params: 173,115\n",
      "Trainable params: 173,115\n",
      "Non-trainable params: 0\n",
      "_________________________________________________________________\n"
     ]
    }
   ],
   "source": [
    "from tensorflow.keras.models import Sequential\n",
    "from tensorflow.keras.layers import LSTM, Dense, Dropout, Flatten\n",
    "\n",
    "BATCH_SIZE = 32\n",
    "batched_validation_dataset = validation_dataset.batch(BATCH_SIZE)\n",
    "batched_train_dataset = train_dataset.batch(BATCH_SIZE)\n",
    "batched_test_dataset = test_dataset.batch(BATCH_SIZE)\n",
    "\n",
    "model = Sequential()\n",
    "model.add(LSTM(200, input_shape=(X_train.shape[1], X_train.shape[2]), return_sequences=True))\n",
    "model.add(Dropout(0.2))\n",
    "model.add(LSTM(8, input_shape=(X_train.shape[1], X_train.shape[2]), return_sequences=False))\n",
    "model.add(Dropout(0.2))\n",
    "#model.add(Flatten(input_shape=(X_train.shape[1], X_train.shape[2])))\n",
    "#model.add(Dense(512, activation=\"relu\"))\n",
    "#model.add(Dense(64, activation=\"relu\"))\n",
    "model.add(Dense(3, activation=\"linear\"))\n",
    "\n",
    "opt = tf.keras.optimizers.Adam(learning_rate=0.1, amsgrad=True)\n",
    "model.compile(loss='mse', optimizer=\"adam\")\n",
    "\n",
    "model.summary()"
   ]
  },
  {
   "cell_type": "code",
   "execution_count": 155,
   "metadata": {
    "scrolled": true,
    "tags": [
     "outputPrepend"
    ]
   },
   "outputs": [
    {
     "name": "stdout",
     "output_type": "stream",
     "text": [
      "Epoch 1/50\n",
      "483/483 [==============================] - 10s 18ms/step - loss: 0.3132 - val_loss: 0.0736\n",
      "Epoch 2/50\n",
      "483/483 [==============================] - 10s 20ms/step - loss: 0.1396 - val_loss: 0.0489\n",
      "Epoch 3/50\n",
      "483/483 [==============================] - 9s 18ms/step - loss: 0.1179 - val_loss: 0.0362\n",
      "Epoch 4/50\n",
      "483/483 [==============================] - 8s 17ms/step - loss: 0.1035 - val_loss: 0.0251\n",
      "Epoch 5/50\n",
      "483/483 [==============================] - 8s 17ms/step - loss: 0.1021 - val_loss: 0.0291\n",
      "Epoch 6/50\n",
      "483/483 [==============================] - 9s 19ms/step - loss: 0.1057 - val_loss: 0.0268\n",
      "Epoch 7/50\n",
      "483/483 [==============================] - 9s 18ms/step - loss: 0.0960 - val_loss: 0.0208\n",
      "Epoch 8/50\n",
      "483/483 [==============================] - 8s 17ms/step - loss: 0.0940 - val_loss: 0.0246\n",
      "Epoch 9/50\n",
      "483/483 [==============================] - 8s 17ms/step - loss: 0.0910 - val_loss: 0.0194\n",
      "Epoch 10/50\n",
      "483/483 [==============================] - 8s 17ms/step - loss: 0.0958 - val_loss: 0.0188\n",
      "Epoch 11/50\n",
      "483/483 [==============================] - 8s 17ms/step - loss: 0.0960 - val_loss: 0.0160\n",
      "Epoch 12/50\n",
      "483/483 [==============================] - 8s 17ms/step - loss: 0.0908 - val_loss: 0.0133\n",
      "Epoch 13/50\n",
      "483/483 [==============================] - 9s 18ms/step - loss: 0.0910 - val_loss: 0.0176\n",
      "Epoch 14/50\n",
      "483/483 [==============================] - 9s 18ms/step - loss: 0.0904 - val_loss: 0.0130\n",
      "Epoch 15/50\n",
      "483/483 [==============================] - 9s 19ms/step - loss: 0.0913 - val_loss: 0.0152\n",
      "Epoch 16/50\n",
      "483/483 [==============================] - 9s 19ms/step - loss: 0.0990 - val_loss: 0.0111\n",
      "Epoch 17/50\n",
      "483/483 [==============================] - 10s 20ms/step - loss: 0.0910 - val_loss: 0.0151\n",
      "Epoch 18/50\n",
      "483/483 [==============================] - 10s 22ms/step - loss: 0.0866 - val_loss: 0.0129\n",
      "Epoch 19/50\n",
      "483/483 [==============================] - 10s 21ms/step - loss: 0.0912 - val_loss: 0.0144\n",
      "Epoch 20/50\n",
      "483/483 [==============================] - 10s 21ms/step - loss: 0.0925 - val_loss: 0.0124\n",
      "Epoch 21/50\n",
      "483/483 [==============================] - 10s 22ms/step - loss: 0.0884 - val_loss: 0.0147\n",
      "Epoch 22/50\n",
      "483/483 [==============================] - 10s 21ms/step - loss: 0.0984 - val_loss: 0.0118\n",
      "Epoch 23/50\n",
      "483/483 [==============================] - 10s 21ms/step - loss: 0.0875 - val_loss: 0.0112\n",
      "Epoch 24/50\n",
      "483/483 [==============================] - 10s 21ms/step - loss: 0.0879 - val_loss: 0.0161\n",
      "Epoch 25/50\n",
      "483/483 [==============================] - 9s 19ms/step - loss: 0.0892 - val_loss: 0.0115\n",
      "Epoch 26/50\n",
      "483/483 [==============================] - 9s 18ms/step - loss: 0.0868 - val_loss: 0.0155\n",
      "Epoch 27/50\n",
      "483/483 [==============================] - 8s 17ms/step - loss: 0.0900 - val_loss: 0.0148\n",
      "Epoch 28/50\n",
      "483/483 [==============================] - 8s 17ms/step - loss: 0.0873 - val_loss: 0.0182\n",
      "Epoch 29/50\n",
      "483/483 [==============================] - 8s 18ms/step - loss: 0.0834 - val_loss: 0.0129\n",
      "Epoch 30/50\n",
      "483/483 [==============================] - 8s 17ms/step - loss: 0.0895 - val_loss: 0.0124\n",
      "Epoch 31/50\n",
      "483/483 [==============================] - 8s 17ms/step - loss: 0.0846 - val_loss: 0.0113\n",
      "Epoch 32/50\n",
      "483/483 [==============================] - 8s 17ms/step - loss: 0.0858 - val_loss: 0.0107\n",
      "Epoch 33/50\n",
      "483/483 [==============================] - 8s 17ms/step - loss: 0.0879 - val_loss: 0.0132\n",
      "Epoch 34/50\n",
      "483/483 [==============================] - 9s 18ms/step - loss: 0.0866 - val_loss: 0.0108\n",
      "Epoch 35/50\n",
      "483/483 [==============================] - 8s 17ms/step - loss: 0.0820 - val_loss: 0.0132\n",
      "Epoch 36/50\n",
      "483/483 [==============================] - 8s 18ms/step - loss: 0.0875 - val_loss: 0.0128\n",
      "Epoch 37/50\n",
      "483/483 [==============================] - 8s 17ms/step - loss: 0.0821 - val_loss: 0.0136\n",
      "Epoch 38/50\n",
      "483/483 [==============================] - 8s 18ms/step - loss: 0.0886 - val_loss: 0.0116\n",
      "Epoch 39/50\n",
      "483/483 [==============================] - 8s 17ms/step - loss: 0.0919 - val_loss: 0.0100\n",
      "Epoch 40/50\n",
      "483/483 [==============================] - 9s 18ms/step - loss: 0.0843 - val_loss: 0.0139\n",
      "Epoch 41/50\n",
      "483/483 [==============================] - 8s 17ms/step - loss: 0.0853 - val_loss: 0.0146\n",
      "Epoch 42/50\n",
      "483/483 [==============================] - 8s 17ms/step - loss: 0.0857 - val_loss: 0.0136\n",
      "Epoch 43/50\n",
      "483/483 [==============================] - 9s 18ms/step - loss: 0.0883 - val_loss: 0.0130\n",
      "Epoch 44/50\n",
      "483/483 [==============================] - 9s 18ms/step - loss: 0.0865 - val_loss: 0.0125\n",
      "Epoch 45/50\n",
      "483/483 [==============================] - 8s 18ms/step - loss: 0.0858 - val_loss: 0.0161\n",
      "Epoch 46/50\n",
      "483/483 [==============================] - 9s 18ms/step - loss: 0.0864 - val_loss: 0.0156\n",
      "Epoch 47/50\n",
      "483/483 [==============================] - 8s 18ms/step - loss: 0.0824 - val_loss: 0.0152\n",
      "Epoch 48/50\n",
      "483/483 [==============================] - 8s 17ms/step - loss: 0.0872 - val_loss: 0.0124\n",
      "Epoch 49/50\n",
      "483/483 [==============================] - 8s 17ms/step - loss: 0.0820 - val_loss: 0.0144\n",
      "Epoch 50/50\n",
      "483/483 [==============================] - 9s 18ms/step - loss: 0.0863 - val_loss: 0.0138\n"
     ]
    }
   ],
   "source": [
    "history = model.fit(\n",
    "    batched_train_dataset,\n",
    "    epochs = 50, \n",
    "    batch_size = BATCH_SIZE, \n",
    "    validation_data= batched_validation_dataset\n",
    "    )"
   ]
  },
  {
   "cell_type": "code",
   "execution_count": 156,
   "metadata": {},
   "outputs": [
    {
     "name": "stdout",
     "output_type": "stream",
     "text": [
      "81/81 [==============================] - 1s 9ms/step - loss: 0.0185\n"
     ]
    },
    {
     "data": {
      "text/plain": [
       "0.018463555723428726"
      ]
     },
     "execution_count": 156,
     "metadata": {},
     "output_type": "execute_result"
    }
   ],
   "source": [
    "model.evaluate(batched_test_dataset)"
   ]
  },
  {
   "cell_type": "code",
   "execution_count": 157,
   "metadata": {},
   "outputs": [
    {
     "data": {
      "application/vnd.jupyter.widget-view+json": {
       "model_id": "689c5b0171984e5fa9cd712ff5ba615d",
       "version_major": 2,
       "version_minor": 0
      },
      "text/plain": [
       "Canvas(toolbar=Toolbar(toolitems=[('Home', 'Reset original view', 'home', 'home'), ('Back', 'Back to previous …"
      ]
     },
     "metadata": {},
     "output_type": "display_data"
    }
   ],
   "source": [
    "plt.figure()\n",
    "plt.plot(history.history['loss'], label='train')\n",
    "plt.plot(history.history['val_loss'], label='test')\n",
    "plt.legend()\n",
    "plt.title('Mean Square Error per Epoch')\n",
    "plt.show()"
   ]
  },
  {
   "cell_type": "code",
   "execution_count": 158,
   "metadata": {},
   "outputs": [
    {
     "name": "stdout",
     "output_type": "stream",
     "text": [
      "25628\n"
     ]
    }
   ],
   "source": [
    "print(len(X))"
   ]
  },
  {
   "cell_type": "code",
   "execution_count": 159,
   "metadata": {},
   "outputs": [
    {
     "data": {
      "application/vnd.jupyter.widget-view+json": {
       "model_id": "94aea9b444b344e99157cf060fc0bd78",
       "version_major": 2,
       "version_minor": 0
      },
      "text/plain": [
       "Canvas(toolbar=Toolbar(toolitems=[('Home', 'Reset original view', 'home', 'home'), ('Back', 'Back to previous …"
      ]
     },
     "metadata": {},
     "output_type": "display_data"
    }
   ],
   "source": [
    "nb_values = 1000\n",
    "start = 12000\n",
    "\n",
    "inp = np.empty((nb_values, WINDOW_LENGTH, 7))\n",
    "inp[:] = X[start:start+nb_values]\n",
    "prediction = model.predict(scale(inp, input_mean, input_std))\n",
    "plt.figure()\n",
    "\n",
    "plt.plot(scale(Y[start:start+nb_values], output_mean, output_std)[:,0])\n",
    "plt.plot(prediction[:,0])\n",
    "\n",
    "plt.title(\"One step prediction, x axis\")\n",
    "plt.show()"
   ]
  },
  {
   "cell_type": "code",
   "execution_count": 160,
   "metadata": {},
   "outputs": [],
   "source": [
    "prediction = model.predict(scale(inp, input_mean, input_std))"
   ]
  },
  {
   "cell_type": "code",
   "execution_count": 161,
   "metadata": {},
   "outputs": [
    {
     "name": "stdout",
     "output_type": "stream",
     "text": [
      "[ 0.26494864 -0.06860718 -0.34931275]\n",
      "[ 0.30214157 -0.05461136 -0.42566582]\n"
     ]
    }
   ],
   "source": [
    "print(prediction[50])\n",
    "print(scale(Y[12050], output_mean, output_std))"
   ]
  },
  {
   "cell_type": "code",
   "execution_count": 162,
   "metadata": {},
   "outputs": [],
   "source": [
    "def predictMultipleSteps(history_frame, inputs, true):\n",
    "    res = []\n",
    "    current_frame = history_frame\n",
    "    shape = history_frame.shape\n",
    "    print(shape)\n",
    "    for ind, u in enumerate(inputs):\n",
    "        print('Status [%d%%]\\r'%(1+100*ind/(len(inputs))), end=\"\")\n",
    "        \n",
    "        p = model.predict(current_frame)\n",
    "        #print(p, true[ind])\n",
    "        current_frame_last = np.hstack((p[0], u))\n",
    "        current_frame = np.vstack((current_frame[0, 1:], current_frame_last)).reshape(shape)\n",
    "        res.append(p[0])\n",
    "    return np.array(res)"
   ]
  },
  {
   "cell_type": "code",
   "execution_count": 163,
   "metadata": {},
   "outputs": [
    {
     "name": "stdout",
     "output_type": "stream",
     "text": [
      "(1, 200, 7)\n",
      "Status [100%]\r"
     ]
    }
   ],
   "source": [
    "START = 13000\n",
    "STEPS = 200\n",
    "\n",
    "history_frame = X[START].reshape((1, -1, nb_features))\n",
    "\n",
    "inputs = scale(X[START+1:START+1+STEPS], input_mean, input_std)[:,-1, 3:]\n",
    "\n",
    "prediction_multiple_steps = predictMultipleSteps(scale(history_frame, input_mean, input_std), inputs, scale(Y[START:START+STEPS], output_mean, output_std))\n"
   ]
  },
  {
   "cell_type": "code",
   "execution_count": 164,
   "metadata": {},
   "outputs": [
    {
     "data": {
      "application/vnd.jupyter.widget-view+json": {
       "model_id": "b406538fa3824852a116299fc8c90f57",
       "version_major": 2,
       "version_minor": 0
      },
      "text/plain": [
       "Canvas(toolbar=Toolbar(toolitems=[('Home', 'Reset original view', 'home', 'home'), ('Back', 'Back to previous …"
      ]
     },
     "metadata": {},
     "output_type": "display_data"
    },
    {
     "data": {
      "text/plain": [
       "<matplotlib.legend.Legend at 0x7f0dd0193250>"
      ]
     },
     "execution_count": 164,
     "metadata": {},
     "output_type": "execute_result"
    }
   ],
   "source": [
    "AXIS = 1\n",
    "\n",
    "plt.figure()\n",
    "plt.title(\"Prediction on the Y axis\")\n",
    "plt.plot(prediction_multiple_steps[:,AXIS], label=\"Prediction\")\n",
    "plt.plot(scale(Y[START:START+STEPS], output_mean, output_std)[:,AXIS],label=\"True value\")\n",
    "plt.legend()\n",
    "#plt.plot(scale(data_input[12001:12101, :3], output_mean, output_std)[:,0])\n"
   ]
  },
  {
   "cell_type": "code",
   "execution_count": null,
   "metadata": {},
   "outputs": [],
   "source": []
  }
 ],
 "metadata": {
  "kernelspec": {
   "display_name": "Python 3.8.5 64-bit",
   "language": "python",
   "name": "python38564bit47489624acb4437780b62491bf283e4f"
  },
  "language_info": {
   "codemirror_mode": {
    "name": "ipython",
    "version": 3
   },
   "file_extension": ".py",
   "mimetype": "text/x-python",
   "name": "python",
   "nbconvert_exporter": "python",
   "pygments_lexer": "ipython3",
   "version": "3.8.5"
  }
 },
 "nbformat": 4,
 "nbformat_minor": 4
}
